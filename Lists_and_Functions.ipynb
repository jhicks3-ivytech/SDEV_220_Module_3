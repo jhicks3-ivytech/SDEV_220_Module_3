{
 "cells": [
  {
   "cell_type": "markdown",
   "id": "1fe91d7f-69c3-44c2-8b1e-9cea50fcbeda",
   "metadata": {},
   "source": [
    "7.4 Make a list called things with these three strings as elements: \"mozzarella\", \"cinderella\", \"salmonella\"."
   ]
  },
  {
   "cell_type": "code",
   "execution_count": 6,
   "id": "2d7d62b6-bc74-485a-b39d-a3f789c39a4c",
   "metadata": {},
   "outputs": [],
   "source": [
    "things = [\"mozzarella\", \"cinderella\", \"salmonella\"]"
   ]
  },
  {
   "cell_type": "markdown",
   "id": "e3ed2973-c65c-428e-acbc-95b3397c8d04",
   "metadata": {},
   "source": [
    "7.5 Capitalize the element in things that refers to a person and then print the list. Did it change the element in the list?"
   ]
  },
  {
   "cell_type": "code",
   "execution_count": 8,
   "id": "19de677a-1b9e-41b2-9ec0-c386bad59570",
   "metadata": {},
   "outputs": [
    {
     "data": {
      "text/plain": [
       "'Cinderella'"
      ]
     },
     "execution_count": 8,
     "metadata": {},
     "output_type": "execute_result"
    }
   ],
   "source": [
    "things[1].capitalize()"
   ]
  },
  {
   "cell_type": "code",
   "execution_count": 9,
   "id": "9435df7b-25c6-4188-b407-4ca19ccb7d2b",
   "metadata": {},
   "outputs": [
    {
     "data": {
      "text/plain": [
       "['mozzarella', 'cinderella', 'salmonella']"
      ]
     },
     "execution_count": 9,
     "metadata": {},
     "output_type": "execute_result"
    }
   ],
   "source": [
    "things"
   ]
  },
  {
   "cell_type": "markdown",
   "id": "9018b6c3-d3d9-4231-848f-ac3618151bd1",
   "metadata": {},
   "source": [
    "It did not change the element in the list."
   ]
  },
  {
   "cell_type": "markdown",
   "id": "6fff419f-0779-4d7c-814b-6b4546319476",
   "metadata": {},
   "source": [
    "7.6 Make the cheesy element of things all uppercase and then print the list."
   ]
  },
  {
   "cell_type": "code",
   "execution_count": 12,
   "id": "e6926294-c3fc-46fb-bbb8-0a0df36056a0",
   "metadata": {},
   "outputs": [
    {
     "name": "stdout",
     "output_type": "stream",
     "text": [
      "MOZZARELLA\n",
      "['mozzarella', 'cinderella', 'salmonella']\n"
     ]
    }
   ],
   "source": [
    "print(things[0].upper())\n",
    "print(things)"
   ]
  },
  {
   "cell_type": "markdown",
   "id": "ba4df777-5f65-4781-8408-3021c7aeacd6",
   "metadata": {},
   "source": [
    "7.7 Delete the disease element from things, collect your Nobel Prize, and print the list."
   ]
  },
  {
   "cell_type": "code",
   "execution_count": 21,
   "id": "a3c2178b-ea60-4e10-835c-df6d6d79f7f6",
   "metadata": {},
   "outputs": [
    {
     "name": "stdout",
     "output_type": "stream",
     "text": [
      "['mozzarella', 'cinderella']\n"
     ]
    }
   ],
   "source": [
    "things.remove(\"salmonella\")\n",
    "print(things)"
   ]
  },
  {
   "cell_type": "markdown",
   "id": "90d55936-a4ff-4757-9258-76e99b58c448",
   "metadata": {},
   "source": [
    "9.1 Define a function called good() that returns the following list: ['Harry', 'Ron', 'Hermione']."
   ]
  },
  {
   "cell_type": "code",
   "execution_count": 3,
   "id": "bf87e27d-5932-433c-aaf7-28a06b874df3",
   "metadata": {},
   "outputs": [],
   "source": [
    "def good():\n",
    "    return ['Harry', 'Ron', 'Hermione']"
   ]
  },
  {
   "cell_type": "markdown",
   "id": "fd62fa4c-fd35-4eed-9dde-b4f3e39178e1",
   "metadata": {},
   "source": [
    "9.2 Define a generator function called get_odds() that returns the odd numbers from range(10). Use a for loop to find and print the third value returned."
   ]
  },
  {
   "cell_type": "code",
   "execution_count": 9,
   "id": "164cdeb0-a123-4f8f-8bde-b1ae410efb86",
   "metadata": {},
   "outputs": [
    {
     "name": "stdout",
     "output_type": "stream",
     "text": [
      "5\n"
     ]
    }
   ],
   "source": [
    "def get_odds():\n",
    "    for i in range(10):\n",
    "        if i % 2 != 0:\n",
    "            yield i\n",
    "count = 0\n",
    "for i in get_odds():\n",
    "    count += 1\n",
    "    if count == 3:\n",
    "        print(i)"
   ]
  },
  {
   "cell_type": "code",
   "execution_count": null,
   "id": "4fa47c17-cf90-4390-904d-e3322a818b9d",
   "metadata": {},
   "outputs": [],
   "source": []
  }
 ],
 "metadata": {
  "kernelspec": {
   "display_name": "Python [conda env:base] *",
   "language": "python",
   "name": "conda-base-py"
  },
  "language_info": {
   "codemirror_mode": {
    "name": "ipython",
    "version": 3
   },
   "file_extension": ".py",
   "mimetype": "text/x-python",
   "name": "python",
   "nbconvert_exporter": "python",
   "pygments_lexer": "ipython3",
   "version": "3.12.7"
  }
 },
 "nbformat": 4,
 "nbformat_minor": 5
}
