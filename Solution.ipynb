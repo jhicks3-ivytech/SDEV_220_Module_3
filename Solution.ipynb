{
 "cells": [
  {
   "cell_type": "markdown",
   "id": "a9aa3d45-3eef-4384-a822-52053beb5e98",
   "metadata": {},
   "source": [
    "SOLUTION CLASS EXERCISE"
   ]
  },
  {
   "cell_type": "code",
   "execution_count": 3,
   "id": "c7fb8c69-40ec-4e81-bc6d-247042bb200a",
   "metadata": {},
   "outputs": [
    {
     "name": "stdout",
     "output_type": "stream",
     "text": [
      "[0, 0, 1, 1, 2, 2]\n"
     ]
    }
   ],
   "source": [
    "class Solution:\n",
    "    # Function to sort an array of 0s, 1s, and 2s\n",
    "    def sort012(self, arr):\n",
    "        low = 0\n",
    "        mid = 0\n",
    "        high = len(arr) - 1\n",
    "\n",
    "        while mid <= high:\n",
    "            if arr[mid] == 0:\n",
    "                arr[low], arr[mid] = arr[mid], arr[low]\n",
    "                low += 1\n",
    "                mid += 1\n",
    "            elif arr[mid] == 1:\n",
    "                mid += 1\n",
    "            else:\n",
    "                arr[mid], arr[high] = arr[high], arr[mid]\n",
    "                high -= 1\n",
    "        return arr\n",
    "\n",
    "arr = [0, 1, 2, 0, 1, 2]\n",
    "sorted_array = Solution()\n",
    "print(sorted_array.sort012(arr))\n"
   ]
  },
  {
   "cell_type": "markdown",
   "id": "8c9b5e5e-3afd-4280-b1df-510591d739a7",
   "metadata": {},
   "source": [
    "Test with a longer array."
   ]
  },
  {
   "cell_type": "code",
   "execution_count": 5,
   "id": "a548c112-3ef2-40dc-ba58-eb585f10ca9e",
   "metadata": {},
   "outputs": [
    {
     "name": "stdout",
     "output_type": "stream",
     "text": [
      "[0, 0, 0, 0, 0, 1, 1, 1, 1, 1, 1, 1, 1, 2, 2, 2, 2, 2, 2, 2]\n"
     ]
    }
   ],
   "source": [
    "class Solution:\n",
    "    # Function to sort an array of 0s, 1s, and 2s\n",
    "    def sort012(self, arr):\n",
    "        low = 0\n",
    "        mid = 0\n",
    "        high = len(arr) - 1\n",
    "\n",
    "        while mid <= high:\n",
    "            if arr[mid] == 0:\n",
    "                arr[low], arr[mid] = arr[mid], arr[low]\n",
    "                low += 1\n",
    "                mid += 1\n",
    "            elif arr[mid] == 1:\n",
    "                mid += 1\n",
    "            else:\n",
    "                arr[mid], arr[high] = arr[high], arr[mid]\n",
    "                high -= 1\n",
    "        return arr\n",
    "\n",
    "# Example usage\n",
    "arr = [0, 1, 2, 0, 1, 2, 2, 1, 0, 2, 2, 1, 1, 1, 1, 0, 0, 2, 1, 2]\n",
    "sorted_array = Solution()\n",
    "print(sorted_array.sort012(arr))\n"
   ]
  },
  {
   "cell_type": "markdown",
   "id": "9f12d834-9ea4-49c4-b919-7e1afac8469b",
   "metadata": {},
   "source": [
    "Originally, I used a bubble sort method that worked. However, when I looked at the editorial I learned the Dutch National Flag algorithm was more efficient."
   ]
  },
  {
   "cell_type": "markdown",
   "id": "0157c82b-8858-4665-aa57-9517ae5bdbe5",
   "metadata": {},
   "source": [
    "BINARY SEARCH EXERCISE"
   ]
  },
  {
   "cell_type": "code",
   "execution_count": 21,
   "id": "8142dee6-49a9-4615-9ccf-93830829c0dd",
   "metadata": {},
   "outputs": [
    {
     "name": "stdout",
     "output_type": "stream",
     "text": [
      "14\n"
     ]
    }
   ],
   "source": [
    "class Solution:\n",
    "    def binarysearch(self, arr, k):\n",
    "        \n",
    "        low = 0\n",
    "        mid = 0\n",
    "        high = len(arr)-1\n",
    "        number = -1\n",
    "        while low <= high:\n",
    "            mid = (low + high) // 2\n",
    "            if k == arr[mid]:\n",
    "                number = mid\n",
    "                high = mid - 1\n",
    "            elif k > arr[mid]:\n",
    "                low = mid + 1\n",
    "            else:\n",
    "                high = mid -1\n",
    "        return number\n",
    "\n",
    "k = 4\n",
    "arr = range(0,6)\n",
    "l = Solution()\n",
    "print(l.binarysearch(arr,k))"
   ]
  },
  {
   "cell_type": "code",
   "execution_count": null,
   "id": "f27f147f-b0e5-4faa-9eab-c748537b69f8",
   "metadata": {},
   "outputs": [],
   "source": []
  }
 ],
 "metadata": {
  "kernelspec": {
   "display_name": "Python [conda env:base] *",
   "language": "python",
   "name": "conda-base-py"
  },
  "language_info": {
   "codemirror_mode": {
    "name": "ipython",
    "version": 3
   },
   "file_extension": ".py",
   "mimetype": "text/x-python",
   "name": "python",
   "nbconvert_exporter": "python",
   "pygments_lexer": "ipython3",
   "version": "3.12.7"
  }
 },
 "nbformat": 4,
 "nbformat_minor": 5
}
